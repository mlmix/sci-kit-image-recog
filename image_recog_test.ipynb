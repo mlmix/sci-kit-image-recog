{
 "cells": [
  {
   "cell_type": "code",
   "execution_count": null,
   "metadata": {},
   "outputs": [],
   "source": [
    "\n",
    "from sklearn.neighbors import KNeighborsClassifier\n",
    "from imutils import paths\n",
    "from sklearn.externals import joblib\n",
    "import numpy as np\n",
    "import argparse\n",
    "import imutils\n",
    "import cv2\n",
    "import os\n",
    "\n",
    "def image_to_feature_vector(image, size=(32, 32)):\n",
    "    return cv2.resize(image, size).flatten()\n",
    "\n",
    "\n",
    "\n",
    "\n",
    "\n",
    "rawImages = []\n",
    "features = []\n",
    "labels = []\n",
    "\n",
    "filename = 'finalized_model_pixel.sav'\n",
    "\n",
    "loaded_model = joblib.load(filename)\n",
    "\n",
    "image_test = cv2.imread(\"test/test_boeing.jpg\")\n",
    "pixels_test = image_to_feature_vector(image_test)\n",
    "rawImages_test = np.array(pixels_test).reshape(1,3072)\n",
    "print(rawImages_test)\n",
    "print(\"-----------------------\")\n",
    "y_result = loaded_model.predict(rawImages_test)\n",
    "print(y_result)\n",
    "print(\"-----------------------\")\n"
   ]
  }
 ],
 "metadata": {
  "kernelspec": {
   "display_name": "Python 3",
   "language": "python",
   "name": "python3"
  },
  "language_info": {
   "codemirror_mode": {
    "name": "ipython",
    "version": 3
   },
   "file_extension": ".py",
   "mimetype": "text/x-python",
   "name": "python",
   "nbconvert_exporter": "python",
   "pygments_lexer": "ipython3",
   "version": "3.6.1"
  }
 },
 "nbformat": 4,
 "nbformat_minor": 2
}
